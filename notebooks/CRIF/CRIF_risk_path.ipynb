{
 "cells": [
  {
   "cell_type": "code",
   "execution_count": 1,
   "id": "440deaf1-cc7f-4213-9107-dda22663b0e8",
   "metadata": {},
   "outputs": [],
   "source": [
    "import os, sys\n",
    "dir2 = os.path.abspath('')\n",
    "dir1 = os.path.dirname(dir2)\n",
    "dir0 = os.path.dirname(dir1)\n",
    "if not dir1 in sys.path: sys.path.append(dir0)"
   ]
  },
  {
   "cell_type": "code",
   "execution_count": 21,
   "id": "f9764780-bd92-44c9-af87-499397d95c91",
   "metadata": {},
   "outputs": [],
   "source": [
    "from brio.utils.Preprocessing import Preprocessing\n",
    "from sklearn.model_selection import train_test_split\n",
    "from pickle import dump, load\n",
    "import pandas as pd\n",
    "import numpy as np\n",
    "from matplotlib import pyplot\n",
    "import matplotlib.pyplot as plt\n",
    "import matplotlib.pyplot as plt\n",
    "import numpy as np\n",
    "import seaborn as sns\n",
    "from functools import reduce\n",
    "from itertools import compress"
   ]
  },
  {
   "cell_type": "code",
   "execution_count": 3,
   "id": "dc922c1a-d0f3-47e1-ab5e-68be2a096fc8",
   "metadata": {},
   "outputs": [],
   "source": [
    "from brio.bias.FreqVsFreqBiasDetector import FreqVsFreqBiasDetector, BiasDetector\n",
    "from brio.risk.HazardFromBiasDetectionCalculator import HazardFromBiasDetectionCalculator\n",
    "from brio.risk.RiskCalculator import RiskCalculator"
   ]
  },
  {
   "cell_type": "code",
   "execution_count": 4,
   "id": "7cfa4f7e-68b5-451d-9c6d-0d619b43573c",
   "metadata": {},
   "outputs": [],
   "source": [
    "model_1 = pd.read_csv(\"./data/processed_model01.csv\")\n",
    "model_2 = pd.read_csv(\"./data/processed_model02.csv\")\n",
    "model_3 = pd.read_csv(\"./data/processed_model03.csv\")\n",
    "model_4 = pd.read_csv(\"./data/processed_model04.csv\")\n",
    "model_5 = pd.read_csv(\"./data/processed_model05.csv\")\n",
    "\n",
    "datasets = [model_1, model_2, model_3, model_4, model_5]\n",
    "names = [\"model_1\", \"model_2\", \"model_3\", \"model_4\", \"model_5\"]\n",
    "\n",
    "datasets_dict = {\n",
    "    \"model_1\": model_1,\n",
    "    \"model_2\": model_2,\n",
    "    \"model_3\": model_3,\n",
    "    \"model_4\": model_4,\n",
    "    \"model_5\": model_5\n",
    "}"
   ]
  },
  {
   "cell_type": "code",
   "execution_count": 14,
   "id": "531a3f8c",
   "metadata": {},
   "outputs": [],
   "source": [
    "sensitive_list = ['foreign_worker', 'personal_status_and_sex', 'age_group']\n",
    "threshold=0.15\n",
    "mode = 'group'\n",
    "distance=\"TVD\"\n",
    "A1='high'\n",
    "min_obs_per_group=30\n",
    "aggregating_function=max\n",
    "business_list_by_model = {\"model_1\": ['status', 'duration', 'credit_history'],\n",
    "                          \"model_2\": ['status', 'duration', 'credit_history'],\n",
    "                          \"model_3\": ['status', 'property', 'credit_history'],\n",
    "                          \"model_4\": ['status', 'duration', 'credit_history'],\n",
    "                          \"model_5\": ['credit_history', 'number_of_credits', 'employment_duration']                         }"
   ]
  },
  {
   "cell_type": "markdown",
   "id": "26c25be7",
   "metadata": {},
   "source": [
    "## Risk Path con valori percentuali"
   ]
  },
  {
   "cell_type": "code",
   "execution_count": 25,
   "id": "bdf763ba",
   "metadata": {},
   "outputs": [],
   "source": [
    "path = {\"step_1\": [False, False, False],\n",
    "        \"step_2\": [True, False, False],\n",
    "        \"step_3\": [True, True, True],\n",
    "        \"step_4\": [True, True, True]}"
   ]
  },
  {
   "cell_type": "code",
   "execution_count": 45,
   "id": "7219b65f",
   "metadata": {},
   "outputs": [
    {
     "name": "stdout",
     "output_type": "stream",
     "text": [
      "model_1\n",
      "['status', 'duration', 'credit_history']\n",
      "model_2\n",
      "['status', 'duration', 'credit_history']\n",
      "model_3\n",
      "['status', 'property', 'credit_history']\n",
      "model_4\n",
      "['status', 'duration', 'credit_history']\n",
      "model_5\n",
      "['credit_history', 'number_of_credits', 'employment_duration']\n"
     ]
    }
   ],
   "source": [
    "results = {}\n",
    "for model in names:\n",
    "    print(model)\n",
    "    \n",
    "    results[model] = {}\n",
    "\n",
    "    conditioning_variables = business_list_by_model[model]\n",
    "    print(conditioning_variables)\n",
    "    \n",
    "    for path_name, path_rules in path.items():\n",
    "\n",
    "        path_variables = list(compress(conditioning_variables, path_rules))\n",
    "        \n",
    "        model_hazards_for_a_path = []\n",
    "        for sensitive in sensitive_list:\n",
    "            bias = bd.compare_root_variable_groups(\n",
    "                    dataframe=datasets_dict[\"model_1\"],\n",
    "                    target_variable='predicted_label',\n",
    "                    root_variable=sensitive,\n",
    "                    threshold=threshold\n",
    "                )  \n",
    "\n",
    "            if len(path_variables) > 0:\n",
    "                bias_conditioned = bd.compare_root_variable_conditioned_groups(\n",
    "                        dataframe=datasets_dict[\"model_1\"],\n",
    "                        target_variable='predicted_label',\n",
    "                        conditioning_variables=path_variables,\n",
    "                        root_variable=sensitive,\n",
    "                        threshold=threshold,\n",
    "                        min_obs_per_group=min_obs_per_group\n",
    "                    )\n",
    "            else:\n",
    "                bias_conditioned = None\n",
    "\n",
    "\n",
    "            hazard = hc.compute_hazard_from_freqvsfreq_or_freqvsref(\n",
    "                    overall_result=bias,\n",
    "                    conditioned_results=bias_conditioned,\n",
    "                    tot_observations=datasets_dict[\"model_1\"].shape[0],\n",
    "                    conditioning_variables=business_list_by_model[\"model_1\"],\n",
    "                    weight_logic=mode\n",
    "                )\n",
    "            \n",
    "            model_hazards_for_a_path.append(hazard[0]/hazard[-1]) #just take the overall hazard and divides by max\n",
    "            \n",
    "        path_results_for_a_model = np.mean(model_hazards_for_a_path)\n",
    "            \n",
    "        results[model][path_name] = path_results_for_a_model   "
   ]
  },
  {
   "cell_type": "code",
   "execution_count": 51,
   "id": "3dd57e6c",
   "metadata": {},
   "outputs": [
    {
     "data": {
      "text/html": [
       "<div>\n",
       "<style scoped>\n",
       "    .dataframe tbody tr th:only-of-type {\n",
       "        vertical-align: middle;\n",
       "    }\n",
       "\n",
       "    .dataframe tbody tr th {\n",
       "        vertical-align: top;\n",
       "    }\n",
       "\n",
       "    .dataframe thead th {\n",
       "        text-align: right;\n",
       "    }\n",
       "</style>\n",
       "<table border=\"1\" class=\"dataframe\">\n",
       "  <thead>\n",
       "    <tr style=\"text-align: right;\">\n",
       "      <th></th>\n",
       "      <th>model_1</th>\n",
       "      <th>model_2</th>\n",
       "      <th>model_3</th>\n",
       "      <th>model_4</th>\n",
       "      <th>model_5</th>\n",
       "    </tr>\n",
       "  </thead>\n",
       "  <tbody>\n",
       "    <tr>\n",
       "      <th>step_1</th>\n",
       "      <td>1.000000</td>\n",
       "      <td>1.000000</td>\n",
       "      <td>1.000000</td>\n",
       "      <td>1.000000</td>\n",
       "      <td>1.000000</td>\n",
       "    </tr>\n",
       "    <tr>\n",
       "      <th>step_2</th>\n",
       "      <td>0.700924</td>\n",
       "      <td>0.700924</td>\n",
       "      <td>0.700924</td>\n",
       "      <td>0.700924</td>\n",
       "      <td>0.823698</td>\n",
       "    </tr>\n",
       "    <tr>\n",
       "      <th>step_3</th>\n",
       "      <td>0.758811</td>\n",
       "      <td>0.758811</td>\n",
       "      <td>0.746344</td>\n",
       "      <td>0.758811</td>\n",
       "      <td>0.815824</td>\n",
       "    </tr>\n",
       "    <tr>\n",
       "      <th>step_4</th>\n",
       "      <td>0.758811</td>\n",
       "      <td>0.758811</td>\n",
       "      <td>0.746344</td>\n",
       "      <td>0.758811</td>\n",
       "      <td>0.815824</td>\n",
       "    </tr>\n",
       "  </tbody>\n",
       "</table>\n",
       "</div>"
      ],
      "text/plain": [
       "         model_1   model_2   model_3   model_4   model_5\n",
       "step_1  1.000000  1.000000  1.000000  1.000000  1.000000\n",
       "step_2  0.700924  0.700924  0.700924  0.700924  0.823698\n",
       "step_3  0.758811  0.758811  0.746344  0.758811  0.815824\n",
       "step_4  0.758811  0.758811  0.746344  0.758811  0.815824"
      ]
     },
     "execution_count": 51,
     "metadata": {},
     "output_type": "execute_result"
    }
   ],
   "source": [
    "pd.DataFrame(results)"
   ]
  },
  {
   "cell_type": "code",
   "execution_count": null,
   "id": "8de53a8e-696a-4c17-a5cd-3c2d2d6786ae",
   "metadata": {},
   "outputs": [],
   "source": []
  },
  {
   "cell_type": "markdown",
   "id": "67e0c862",
   "metadata": {},
   "source": [
    "## Risk Path con valori assoluti"
   ]
  },
  {
   "cell_type": "code",
   "execution_count": 52,
   "id": "1024dcc0",
   "metadata": {},
   "outputs": [],
   "source": [
    "path = {\"step_1\": [False, False, False],\n",
    "        \"step_2\": [True, False, False],\n",
    "        \"step_3\": [True, True, True],\n",
    "        \"step_4\": [True, True, True]}"
   ]
  },
  {
   "cell_type": "code",
   "execution_count": 53,
   "id": "c306deb9",
   "metadata": {},
   "outputs": [
    {
     "name": "stdout",
     "output_type": "stream",
     "text": [
      "model_1\n",
      "['status', 'duration', 'credit_history']\n",
      "model_2\n",
      "['status', 'duration', 'credit_history']\n",
      "model_3\n",
      "['status', 'property', 'credit_history']\n",
      "model_4\n",
      "['status', 'duration', 'credit_history']\n",
      "model_5\n",
      "['credit_history', 'number_of_credits', 'employment_duration']\n"
     ]
    }
   ],
   "source": [
    "results = {}\n",
    "for model in names:\n",
    "    print(model)\n",
    "    \n",
    "    results[model] = {}\n",
    "\n",
    "    conditioning_variables = business_list_by_model[model]\n",
    "    print(conditioning_variables)\n",
    "    \n",
    "    for path_name, path_rules in path.items():\n",
    "\n",
    "        path_variables = list(compress(conditioning_variables, path_rules))\n",
    "        \n",
    "        model_hazards_for_a_path = []\n",
    "        for sensitive in sensitive_list:\n",
    "            bias = bd.compare_root_variable_groups(\n",
    "                    dataframe=datasets_dict[\"model_1\"],\n",
    "                    target_variable='predicted_label',\n",
    "                    root_variable=sensitive,\n",
    "                    threshold=threshold\n",
    "                )  \n",
    "\n",
    "            if len(path_variables) > 0:\n",
    "                bias_conditioned = bd.compare_root_variable_conditioned_groups(\n",
    "                        dataframe=datasets_dict[\"model_1\"],\n",
    "                        target_variable='predicted_label',\n",
    "                        conditioning_variables=path_variables,\n",
    "                        root_variable=sensitive,\n",
    "                        threshold=threshold,\n",
    "                        min_obs_per_group=min_obs_per_group\n",
    "                    )\n",
    "            else:\n",
    "                bias_conditioned = None\n",
    "\n",
    "\n",
    "            hazard = hc.compute_hazard_from_freqvsfreq_or_freqvsref(\n",
    "                    overall_result=bias,\n",
    "                    conditioned_results=bias_conditioned,\n",
    "                    tot_observations=datasets_dict[\"model_1\"].shape[0],\n",
    "                    conditioning_variables=business_list_by_model[\"model_1\"],\n",
    "                    weight_logic=mode\n",
    "                )\n",
    "            \n",
    "            model_hazards_for_a_path.append(hazard[0]) #just take the overall hazard and divides by max\n",
    "            \n",
    "        path_results_for_a_model = np.mean(model_hazards_for_a_path)\n",
    "            \n",
    "        results[model][path_name] = path_results_for_a_model   "
   ]
  },
  {
   "cell_type": "code",
   "execution_count": 54,
   "id": "55c9d10d",
   "metadata": {},
   "outputs": [
    {
     "data": {
      "text/html": [
       "<div>\n",
       "<style scoped>\n",
       "    .dataframe tbody tr th:only-of-type {\n",
       "        vertical-align: middle;\n",
       "    }\n",
       "\n",
       "    .dataframe tbody tr th {\n",
       "        vertical-align: top;\n",
       "    }\n",
       "\n",
       "    .dataframe thead th {\n",
       "        text-align: right;\n",
       "    }\n",
       "</style>\n",
       "<table border=\"1\" class=\"dataframe\">\n",
       "  <thead>\n",
       "    <tr style=\"text-align: right;\">\n",
       "      <th></th>\n",
       "      <th>model_1</th>\n",
       "      <th>model_2</th>\n",
       "      <th>model_3</th>\n",
       "      <th>model_4</th>\n",
       "      <th>model_5</th>\n",
       "    </tr>\n",
       "  </thead>\n",
       "  <tbody>\n",
       "    <tr>\n",
       "      <th>step_1</th>\n",
       "      <td>0.150128</td>\n",
       "      <td>0.150128</td>\n",
       "      <td>0.150128</td>\n",
       "      <td>0.150128</td>\n",
       "      <td>0.150128</td>\n",
       "    </tr>\n",
       "    <tr>\n",
       "      <th>step_2</th>\n",
       "      <td>0.079050</td>\n",
       "      <td>0.079050</td>\n",
       "      <td>0.079050</td>\n",
       "      <td>0.079050</td>\n",
       "      <td>0.108424</td>\n",
       "    </tr>\n",
       "    <tr>\n",
       "      <th>step_3</th>\n",
       "      <td>0.062602</td>\n",
       "      <td>0.062602</td>\n",
       "      <td>0.060277</td>\n",
       "      <td>0.062602</td>\n",
       "      <td>0.064025</td>\n",
       "    </tr>\n",
       "    <tr>\n",
       "      <th>step_4</th>\n",
       "      <td>0.062602</td>\n",
       "      <td>0.062602</td>\n",
       "      <td>0.060277</td>\n",
       "      <td>0.062602</td>\n",
       "      <td>0.064025</td>\n",
       "    </tr>\n",
       "  </tbody>\n",
       "</table>\n",
       "</div>"
      ],
      "text/plain": [
       "         model_1   model_2   model_3   model_4   model_5\n",
       "step_1  0.150128  0.150128  0.150128  0.150128  0.150128\n",
       "step_2  0.079050  0.079050  0.079050  0.079050  0.108424\n",
       "step_3  0.062602  0.062602  0.060277  0.062602  0.064025\n",
       "step_4  0.062602  0.062602  0.060277  0.062602  0.064025"
      ]
     },
     "execution_count": 54,
     "metadata": {},
     "output_type": "execute_result"
    }
   ],
   "source": [
    "pd.DataFrame(results)"
   ]
  },
  {
   "cell_type": "code",
   "execution_count": null,
   "id": "682fd896-d9b5-4266-8d7f-bdad7652e32c",
   "metadata": {},
   "outputs": [],
   "source": []
  }
 ],
 "metadata": {
  "kernelspec": {
   "display_name": "Python 3 (ipykernel)",
   "language": "python",
   "name": "python3"
  },
  "language_info": {
   "codemirror_mode": {
    "name": "ipython",
    "version": 3
   },
   "file_extension": ".py",
   "mimetype": "text/x-python",
   "name": "python",
   "nbconvert_exporter": "python",
   "pygments_lexer": "ipython3",
   "version": "3.10.9"
  }
 },
 "nbformat": 4,
 "nbformat_minor": 5
}
